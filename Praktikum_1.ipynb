{
 "cells": [
  {
   "cell_type": "markdown",
   "metadata": {},
   "source": [
    "# BitArray\n",
    "\n",
    "Um bequem mit den einzelnen Bits zu operieren, wird eine Klasse `BitArray` erstellt, welche den Wert als `int` abspeichert und Methoden zur Auslesung, Überschreibung, Sequenzierung und Konkatenation ermöglicht."
   ]
  },
  {
   "cell_type": "code",
   "execution_count": 1,
   "metadata": {},
   "outputs": [],
   "source": [
    "from math import ceil\n",
    "\n",
    "\n",
    "class BitArray:\n",
    "    def __init__(self, bits=None, length=None, file=None):\n",
    "        if bits is None:\n",
    "            self.array = 0\n",
    "            self.length = 0\n",
    "            if file is not None:\n",
    "                self.write(file)\n",
    "        elif type(bits) in {chr, str}:\n",
    "            self.array = int(bits, 2)\n",
    "            self.length = len(bits)\n",
    "            if file is not None:\n",
    "                self.write(file)\n",
    "        elif type(bits) == int:\n",
    "            self.array = bits\n",
    "            self.length = length if length else bits.bit_length()\n",
    "            if file is not None:\n",
    "                self.write(file)\n",
    "        elif type(bits) == BitArray:\n",
    "            self.array = bits.array\n",
    "            self.length = bits.length\n",
    "            if file is not None:\n",
    "                self.write(file)\n",
    "        elif type(bits) == bytes:\n",
    "            temp = BitArray(int.from_bytes(bits, 'big'))\n",
    "            cutoff = int(temp[:8])\n",
    "            self.array = int(temp[8 + cutoff:])\n",
    "            self.length = len(temp) - (8 + cutoff)\n",
    "            del temp\n",
    "            if file is not None:\n",
    "                self.write(file)\n",
    "        elif bits is None and file is not None:\n",
    "            try:\n",
    "                self.__init__(self.read(file))\n",
    "            except:\n",
    "                raise Exception(f'File {file} is invalid!')\n",
    "        else:\n",
    "            raise Exception(f\"\"\"\n",
    "Bits must be of type str or int.\n",
    "{type(bits)} is something completly different.\n",
    "\"\"\")\n",
    "    \n",
    "    def __call__(self, step=1):\n",
    "        for i in range(0, len(self), step):\n",
    "            if i+step <= len(self):\n",
    "                yield self[i:i+step]\n",
    "    \n",
    "    def __getitem__(self, idx):\n",
    "        if type(idx) == slice:\n",
    "            start = (idx.start if idx.start is not None else 0) % len(self)\n",
    "            stop = (idx.stop if idx.stop is not None else len(self)) % (len(self) + 1)\n",
    "            return BitArray((self.array >> len(self) - stop) & ((1 << stop - start) - 1),\n",
    "                            length=stop-start)\n",
    "        else:\n",
    "            return BitArray(self.array & 1 << (len(self) - idx - 1) , length=1)\n",
    "    \n",
    "    def __setitem__(self, idx, value):\n",
    "        if type(value) != BitArray:\n",
    "            raise Exception(f\"\"\"\n",
    "Value must be of type BitArray.\n",
    "{type(value)} is something completly different.\n",
    "\"\"\")\n",
    "        cutoff = min(len(self), idx + len(value))\n",
    "        self.array = (self[:idx]|value[:cutoff]|self[cutoff:]).array\n",
    "    \n",
    "    def __or__(self, other):\n",
    "        return BitArray(self.array << len(other)|other.array, length=len(self) + len(other))\n",
    "    \n",
    "    def __repr__(self):\n",
    "        return f'BitArray[{str(self)}]'\n",
    "    \n",
    "    def __str__(self):\n",
    "        if self.array is not None:\n",
    "            return bin(self.array).replace('0b', '').zfill(len(self))[:len(self)]\n",
    "        else:\n",
    "            return ''\n",
    "    \n",
    "    def bytes(self):\n",
    "        return (BitArray(-len(self) % 8, length=8)|self).array.to_bytes(ceil(len(self)/8) + 1, 'big')\n",
    "    \n",
    "    def read(self, file):\n",
    "        with open(file, 'rb') as file:\n",
    "            return BitArray(file.read())\n",
    "    \n",
    "    def write(self, file):\n",
    "        with open(file, 'wb') as file:\n",
    "            file.write(self.bytes())\n",
    "    \n",
    "    def __len__(self):\n",
    "        return self.length\n",
    "    \n",
    "    def __int__(self):\n",
    "        return self.array\n",
    "    \n",
    "    def __bool__(self):\n",
    "        return bool(self.array)\n",
    "    \n",
    "    def __eq__(self, other):\n",
    "        return self.array == other.array and len(self) == len(other)"
   ]
  },
  {
   "cell_type": "markdown",
   "metadata": {},
   "source": [
    "# Morse Code\n",
    "\n",
    "Die Morsekodierung bildet von der Menge des Alphabets auf eine Menge bestehend aus weniger Zeichen ab. Für die Kodierung eines einzelnes Zeichens gilt:\n",
    "\n",
    "$$ \\Omega := Alphabet \\cup Numerals \\cup  \\{ {. \\_} \\}$$\n",
    "$$ \\Sigma :=  \\{ .  \\_ : *   \\} $$\n",
    "$$ \\mathcal{M}: \\Omega \\mapsto Morse \\: Code \\subset \\Sigma ^{+}$$\n",
    "\n",
    "Um die Kodierung mehrerer Zeichen $\\mathcal{M}^n$ zu ermöglichen, muss eine Trennung der einzelnen Zeichen aus $Morse \\: Code$ erfolgen, um die Eindeutligkeit zu gewährleisten. Dies wird auf der Ebene des Morsecodes durch eine Trennung per Leerzeichen `SPACE` zur Abgrenzung der einzelnen Alphabetsbuchstaben ermöglicht:\n",
    "\n",
    "Sei $\\prod$ eine Konkatenation, dann gilt für nicht elementare Strings:\n",
    "$$ \\mathcal{M}(c \\in \\Omega):= \\prod_{i=1}^{|c|}Morse \\: Code(c_i) $$"
   ]
  },
  {
   "cell_type": "code",
   "execution_count": 2,
   "metadata": {},
   "outputs": [],
   "source": [
    "class Encoder:\n",
    "    def __init__(self):\n",
    "        self.morse = {\n",
    "            'A': '._', 'B': '_...', \n",
    "            'C': '_._.', 'D': '_..', \n",
    "            'E': '.', 'F': '.._.', \n",
    "            'G': '__.', 'H': '....', \n",
    "            'I': '..', 'J': '.___', \n",
    "            'K': '_._', 'L': '._..', \n",
    "            'M': '__', 'N': '_.', \n",
    "            'O': '___', 'P': '.__.', \n",
    "            'Q': '__._', 'R': '._.', \n",
    "            'S': '...', 'T': '_', \n",
    "            'U': '.._', 'V': '..._', \n",
    "            'W': '.__', 'X': '_.._', \n",
    "            'Y': '_.__', 'Z': '__..', \n",
    "            '0': '_____', '1': '.____', \n",
    "            '2': '..___', '3': '...__', \n",
    "            '4': '...._', '5': '.....', \n",
    "            '6': '_....', '7': '__...', \n",
    "            '8': '___..', '9': '____.', \n",
    "            ' ': ':', '.': '*',\n",
    "        }\n",
    "        self.morse_inv = {v: k for k, v in self.morse.items()}\n",
    "    \n",
    "    def encode(self, x, status=False):\n",
    "        if set(x) - {'.', '_', ':', '*'}:\n",
    "            x = self.encode_morse(x)\n",
    "            if status: print(x)\n",
    "        x = self.encode_binary(x)\n",
    "        return x\n",
    "\n",
    "    def decode(self, x, status=False):\n",
    "        if isinstance(x, BitArray):\n",
    "            x = self.decode_binary(x)\n",
    "            if status: print(x)\n",
    "        x = self.decode_morse(x)\n",
    "        return x\n",
    "    \n",
    "    def encode_morse(self, text):\n",
    "        return ' '.join(self.morse[char] for char in text.upper() if char in self.morse)\n",
    "\n",
    "    def decode_morse(self, text):\n",
    "        return ''.join(self.morse_inv[code] for code in text.split(' ') if code in self.morse_inv)\n",
    "    \n",
    "    def morse_ascii(self, text):\n",
    "        b = BitArray()\n",
    "        for char in filter(lambda c: c in self.morse, text.upper()):\n",
    "            b = b|BitArray(ord(char), length=7)\n",
    "        return b\n",
    "    \n",
    "    def compare(self, text):\n",
    "        ascii_encoding = self.morse_ascii(text)\n",
    "        stream = self.encode(text)\n",
    "        print(f\"\"\"\n",
    "Length of Text->ASCII encoding:\\t\\t{len(ascii_encoding)} bit\n",
    "Length of Morse->Binary encoding:\\t{len(stream)} bit\n",
    "Redutcion by:\\t\\t\\t\\t{round((1 - len(stream)/len(ascii_encoding))*100, 1)}%\n",
    "\"\"\")\n",
    "    \n",
    "    def read(self, file, status=False, transform=True):\n",
    "        with open(file, 'rb') as file:\n",
    "            x = BitArray(file.read())\n",
    "            if transform:\n",
    "                return self.decode(x, status)\n",
    "            else:\n",
    "                return x\n",
    "    \n",
    "    def write(self, x, file, status=False):\n",
    "        with open(file, 'wb') as file:\n",
    "            if isinstance(x, BitArray):\n",
    "                file.write(x.bytes())\n",
    "            else:\n",
    "                file.write(self.encode(x, status).bytes())\n",
    "\n"
   ]
  },
  {
   "cell_type": "markdown",
   "metadata": {},
   "source": [
    "### Erster Ansatz\n",
    "\n",
    "\n",
    "Die dadurch erzeugte Folge kann nun weiter binär kodiert werden. Hierzu werden die Elemente aus $\\Sigma$ auf 2 Bit abgebildet.\n",
    "\n",
    "$$ \\varphi : \\Sigma \\mapsto \\{0, 1\\}^2$$\n",
    "$$ \\Phi(m) := \\prod_{i=1}^{|m|} \\varphi(m_i)$$\n",
    "\n",
    "Da in $\\mathcal{M}^n$ jedoch noch das Zeichen `SPACE` enthalen ist, muss eine binäre Kodierung für $\\mathcal{M}^n$ die Abbildung $\\Phi$ erweitern. Eine naive Methode wäre es, $\\Sigma$ um $\\_$ zu erweitern, dies hätte jedoch den nachteil, dass wir dann 3 Bit für die Abbildung $\\mathcal{B}$ bräuchten. Da $\\forall c \\in \\Omega: |\\mathcal{M}(c)| \\in [1, 5]$, können wir für jedes `SPACE` $\\in \\mathcal{M}^n$ die Schritweite $\\Lambda$ bis zum nächten `SPACE` mit 3 Bit kodieren.\n",
    "\n",
    "$$\\Lambda: \\Sigma \\mapsto \\{0, 1\\}^3$$\n",
    "$$\\Lambda(m) := 2\\cdot(|m|-1)_{bin}$$\n",
    "\n",
    "Damit kann beim Dekodieren $\\mathcal{\\bar{B}}^m$ zwischen den Schritten des Auslesens der Länge des nächsten Blocks $\\Lambda(m)$ und dem Auslesen des nächsten Blocks $\\bar{\\Phi}$ alterniert werden:\n",
    "\n",
    "$$\\mathcal{B}(x) := \\prod_{i = 1}^{|x|}\\left[\\Lambda|\\Phi\\right]\\circ\\mathcal{M}(x_i) $$"
   ]
  },
  {
   "cell_type": "code",
   "execution_count": 3,
   "metadata": {},
   "outputs": [],
   "source": [
    "class EncoderOne(Encoder):\n",
    "    def __init__(self):\n",
    "        super().__init__()\n",
    "        self.binary = {'.': 0b00, '_': 0b01, ':': 0b10, '*': 0b11,}\n",
    "        self.binary_inv = {v: k for k, v in self.binary.items()}\n",
    "    \n",
    "    def encode_binary(self, codes):\n",
    "        stream = BitArray()\n",
    "        for code in codes.split(' '):\n",
    "            stream = stream|BitArray(len(code)-1, 3)\n",
    "            for char in code:\n",
    "                stream = stream|BitArray(self.binary[char], length=2)\n",
    "        return stream\n",
    "    \n",
    "    def decode_binary(self, stream):\n",
    "        chars, i = [], 0\n",
    "        while i < len(stream):\n",
    "            char_length = (int(stream[i:i+3])+1)*2\n",
    "            chars.append(''.join(self.binary_inv[int(x)] for x in stream[i+3:i+3+char_length](2)))\n",
    "            i += 3 + char_length \n",
    "        return ' '.join(chars)"
   ]
  },
  {
   "cell_type": "code",
   "execution_count": 4,
   "metadata": {},
   "outputs": [
    {
     "name": "stdout",
     "output_type": "stream",
     "text": [
      "_ . ._.. ._.. : __ . : .__ .... ._ _ : _.. ___ : _.__ ___ .._ : _.. ___ : .__ .. _ .... : .__ .. _ _._. .... . ... * : _... .._ ._. _. : _... .._ ._. _. : _... .._ ._. _. * * * : .__ .... ._ _ : _.. ___ : _.__ ___ .._ : _... .._ ._. _. : ._ .__. ._ ._. _ : .._. ._. ___ __ : .__ .. _ _._. .... . ... * : __ ___ ._. . : .__ .. _ _._. .... . ... * * * : .__ ___ ___ _.. * : ... ___ : .__ .... _.__ : _.. ___ : .__ .. _ _._. .... . ... : _... .._ ._. _. * : _._. ._ .._ ... . : _ .... . _.__ ._. . : __ ._ _.. . : ___ .._. * * * : .__ ___ ___ _.. * : ... ___ : .... ___ .__ : _.. ___ : .__ . : _ . ._.. ._.. : .. .._. : ... .... . : .. ... : __ ._ _.. . : ___ .._. : .__ ___ ___ _.. * : _... .._ .. ._.. _.. : ._ : _... ._. .. _.. __. . : ___ .._ _ : ___ .._. : .... . ._. * : ._ .... .... : _... .._ _ : _._. ._ _. : _.__ ___ .._ : _. ___ _ : ._ ._.. ... ___ : __ ._ _._ . : _... ._. .. _.. __. . ... : ___ .._ _ : ___ .._. : ... _ ___ _. . * : ___ .... : _.__ . ._ .... * * * : _.. ___ . ... : .__ ___ ___ _.. : ... .. _. _._ : .. _. : .__ ._ _ . ._. * : _. ___ * : .. _ : .._. ._.. ___ ._ _ ... * : ._.. . _ ... : _ .... ._. ___ .__ : .... . ._. : .. _. _ ___ : _ .... . : _... ___ __. * : .__ .... ._ _ : ._ ._.. ... ___ : .._. ._.. ___ ._ _ ... : .. _. : .__ ._ _ . ._. * : _... ._. . ._ _.. * : ._ .__. .__. ._.. . ... * : ..._ . ._. _.__ : ... __ ._ ._.. ._.. : ._. ___ _._. _._ ... * : _._. .. _.. . ._. * : __. ._. ._ .__. . : __. ._. ._ ..._ _.__ * : _._. .... . ._. ._. .. . ... * : __ .._ _.. * : ._ : _.. .._ _._. _._ * : . _.._ ._ _._. _ ._.. _.__ * : ... ___ : ._.. ___ __. .. _._. ._ ._.. ._.. _.__ * * * : .. .._. : ... .... . : .__ ._ _.__ ... : _ .... . : ... ._ __ . : ._ ... : ._ : _.. .._ _._. _._ * * * : ... .... . ... : __ ._ _.. . : ___ .._. : .__ ___ ___ _.. * : ._ _. _.. : _ .... . ._. . .._. ___ ._. . * * * : ._ : .__ .. _ _._. .... * : .__ . : ... .... ._ ._.. ._.. : .._ ... . : __ _.__ : ._.. ._ ._. __. . ... _ : ... _._. ._ ._.. . ... * :\n",
      "BitArray[0000100000011000100000110001000000010001010100000000100100001010110000000000100010000100010010010000010010101000100110100010101001010101000000100010010010000010010101000100100001010010000000010110000000000010010000101001000000001011010001000110000000000000010000000000110001001101000000010000001010000100001010000010011010000000100000010100001000010100000100110100000001000000101000010000101000001100011000110001001000010101100000000001000100001000100100100000100101010001001101000101010010101010000001000100110100000001000000101000010000101000001000100010110001010000100010100001000000100010011000001000100001000100101010010101000100100001010010000000010110100010001100000000000000100000000001100010001010101001010101000010000000000100100001010010000000010110100010001100000000000000100000000001100011000110001001000010101001010101001010101001000000011000100100000000100101010001001000010101100000000011010001010001001001000001001010100010010000101001000000001011010001000110000000000000010000000000100110100000001000000101000010000101000001100010011010001000010001010000001010000000000000001000001011000000000000001101000101010000100000000001000101010010001010010000000000001001001010101100000100000110001100011000100100001010100101010100101010100100000001100010010000000010010101000100110000000001001010101000010100010010010000010010101000100100001010000000010000010000001100010000011000100000001000100000110000010000010010000000011000000000000000010001000001000000000010001010100100010100100000000000010010010101011000001000001001000010101001010101001010101001000000011000100110100000001000000100100000110001000001001000000010001000100010011010000000100001000010000010010000010010100000000001001001010101000000100001000100100101010110000010000010011000000000000001000010000011000100010001011000000000110000000000010011010000000100000010000100010011010001000010001001010000010011010001010100101010100000010001000101000100101010000100010001000101100010000010000000010010101000100010101001000101001000100000000100110100000001000010000100000100100000100101000000001000000000010010010101010000001000010001001001010101100000100000100100000000000101001010100101000000000011000100100101010110000000000010011010001010000000100010110000000000011000110001100010010010000010010101000000100000000001001000010101001010101001010101001000000010010000000001000000101000100100010001000100000010100000100100001010010001000010000001000010000011000100010100010010101000110001000100000000100010011000001000110001000001001010100100010000101000000000011000100110001000000000000010100000000001000001011000000000100001000100101010100001010001001100000000000000100001000001000100000010100000010100101010001000001011000000000000000010011010000000100101010100101000001100010010000101011000000000010001000010001000100010110001000001000000001001010100010011000001000110001000001001010100100010000101000000000010001000000101000001001000010100100010000100000010000100000110001001101000000010000100000000010001010010000000110001000100010110001010001100010100011000100000000001000000000011000100110000000100000010000100011010001010001001000000000101010010001011000100000110001000000010010000100010010101011010001000100100010100000000001100010011010001000010000010010000000000100001000001100010010010100010000100001000101100010100000000001001001010001000010000100010110000000101101000101000110001001101000100011000000000000001000010001000010000100000000001000000000011000100010101010000001010010000000110001000100010001001001000001000000101101000100010010001000110001000000011010000010010001011010001000000101100010000011010001010001100010010000000010010101000100110001000001001010101001010000100000110100010000100010110001000001100010000011010001010001100011000110001000100000110000010000010010000000011000000000000000010010000101001000101101000101010000000000100000101100000000000000001001000000000100010010101000000001000100010100000000001000100010001001001000001000000101101000100010010001000110001100011000100100000000110000000000000010000000000100010101001000101001000000000000100100101010110000010000010010000101010010101010010101010010000000110001000100010010100010010000000100000101100000000000000100001000000001100000100010010101010000100000000001100011000110001000100010001001000010100100000000101101000100011000000000001100010010000101000000001001000000001100000000001000101100010000011000100000001001000000101000000000000000100010101011010001010001001100010000001000101000010001001010000000010000000000010001001000000001101000100001000101100010000000000100000000001100010]\n"
     ]
    }
   ],
   "source": [
    "witch = \"\"\"\n",
    "Tell me, what do you do with witches. \n",
    "Burn Burn Burn... \n",
    "What do you burn apart from witches. \n",
    "More witches... \n",
    "Wood. \n",
    "So, why do witches burn. \n",
    "Cause they're made of... wood. \n",
    "So, how do we tell if she is made of wood. \n",
    "Build a bridge out of her. \n",
    "Ahh, but can you not also make bridges out of stone. \n",
    "Oh yeah... \n",
    "Does wood sink in water. \n",
    "No. It floats. \n",
    "Let's throw her into the bog. \n",
    "What also floats in water. \n",
    "Bread. \n",
    "Apples. \n",
    "Very small rocks. \n",
    "Cider. \n",
    "Grape gravy. \n",
    "Cherries. \n",
    "Mud. \n",
    "A Duck. \n",
    "Exactly. So, logically... \n",
    "If she ways the same as a duck... she's made of wood. \n",
    "And therefore... A witch. \n",
    "We shall use my largest scales. \n",
    "\"\"\"\n",
    "\n",
    "one = EncoderOne()\n",
    "stream = one.encode(witch, True)\n",
    "print(repr(stream))"
   ]
  },
  {
   "cell_type": "code",
   "execution_count": 5,
   "metadata": {},
   "outputs": [
    {
     "name": "stdout",
     "output_type": "stream",
     "text": [
      "TELL ME WHAT DO YOU DO WITH WITCHES. BURN BURN BURN... WHAT DO YOU BURN APART FROM WITCHES. MORE WITCHES... WOOD. SO WHY DO WITCHES BURN. CAUSE THEYRE MADE OF... WOOD. SO HOW DO WE TELL IF SHE IS MADE OF WOOD. BUILD A BRIDGE OUT OF HER. AHH BUT CAN YOU NOT ALSO MAKE BRIDGES OUT OF STONE. OH YEAH... DOES WOOD SINK IN WATER. NO. IT FLOATS. LETS THROW HER INTO THE BOG. WHAT ALSO FLOATS IN WATER. BREAD. APPLES. VERY SMALL ROCKS. CIDER. GRAPE GRAVY. CHERRIES. MUD. A DUCK. EXACTLY. SO LOGICALLY... IF SHE WAYS THE SAME AS A DUCK... SHES MADE OF WOOD. AND THEREFORE... A WITCH. WE SHALL USE MY LARGEST SCALES. \n"
     ]
    }
   ],
   "source": [
    "text = one.decode(stream)\n",
    "print(text)"
   ]
  },
  {
   "cell_type": "code",
   "execution_count": 6,
   "metadata": {},
   "outputs": [
    {
     "name": "stdout",
     "output_type": "stream",
     "text": [
      "IO WITH WITCHES. BURN BURN BURN... WHAT DO YOU BURN APART FROM WITCHES. MORE WITCHES... WOOD. SO WHY DO WITCHES BURN. CAUSE THEYRE MADE OF... WOOD. SO HOW DO WE TELL IF SHE IS MADE OF WOOD. BUILD A BRIDGE OUT OF HER. AHH BUT CAN YOU NOT ALSO MAKE BRIDGES OUT OF STONE. OH YEAH... DOES WOOD SINK IN WATER. NO. IT FLOATS. LETS THROW HER INTO THE BOG. WHAT ALSO FLOATS IN WATER. BREAD. APPLES. VERY SMALL ROCKS. CIDER. GRAPE GRAVY. CHERRIES. MUD. A DUCK. EXACTLY. SO LOGICALLY... IF SHE WAYS THE SAME AS A DUCK... SHES MADE OF WOOD. AND THEREFORE... A WITCH. WE SHALL USE MY LARGEST SCALES. \n"
     ]
    }
   ],
   "source": [
    "file_name = 'witch_one.b'\n",
    "one.write(witch, file_name)\n",
    "print(one.read(file_name))"
   ]
  },
  {
   "cell_type": "code",
   "execution_count": 7,
   "metadata": {},
   "outputs": [
    {
     "name": "stdout",
     "output_type": "stream",
     "text": [
      "\n",
      "Length of Text->ASCII encoding:\t\t4256 bit\n",
      "Length of Morse->Binary encoding:\t4552 bit\n",
      "Redutcion by:\t\t\t\t-7.0%\n",
      "\n"
     ]
    }
   ],
   "source": [
    "one.compare(witch)"
   ]
  },
  {
   "cell_type": "markdown",
   "metadata": {},
   "source": [
    "### Zweiter Ansatz\n",
    "Ein schlechteres Ergebnis als ASCII bei deutlich geringerem Zeichensatz ist noch nicht zufriedenstellend.\n",
    "Da die von $\\mathcal{M}$ kodierten Strings deutlich häufiger Symbole aus der Menge $\\{. \\_ \\}$ beinhalten als aus der Menge $\\{* :\\}$ und zwischen zwei `SPACE` lediglich Symbole aus nur einer der beiden Mengen stehen, bietet es sich an, im Präfix eines Blocks zu markieren, aus welcher Menge der folgende Block besteht. Dazu wird ein Bit hinzugefügt und jedes Symbol des folgenden Blocks kann mit einem Bit weniger dargestellt werden. Da jeder Block mindestens ein Symbol lang ist, ist eine gleichbleibende oder verbesserte Reduktion der Kodierung gewiss.\n",
    "\n",
    "Es sei die Kodierung für die einzelnen Elemente aus $\\mathcal{M}$:\n",
    "$$ \\varphi : \\Sigma \\mapsto \\{0, 1\\}$$\n",
    "$$ \\varphi(m) := \\left\\{\\begin{matrix}\n",
    " 0 & \\text{falls} & m \\in \\{. :\\} \\\\ \n",
    " 1 & \\text{falls} & m \\in \\{\\_ * \\} \\\\ \n",
    "\\end{matrix}\\right. $$\n",
    "Ferner sei:\n",
    "$$ \\Phi(m) := \\prod_{i=1}^{|m|}\\varphi(m_i) $$\n",
    "\n",
    "Es sei die Blocklängenfunktion $\\Lambda$:\n",
    "$$\\Lambda: \\Sigma^+ \\mapsto \\{0, 1\\}^3$$\n",
    "$$\\Lambda(m) := |m|_{bin} - 1$$\n",
    "\n",
    "Es sei die Funktion $\\Psi$ zur Determinierung, um welchen Block es sich handeln wird:\n",
    "$$\\Psi: \\Sigma^+ \\mapsto \\{0, 1\\}$$\n",
    "$$\\Psi(m) :=  \\left\\{\\begin{matrix}\n",
    " 0 & \\text{falls} & m \\setminus  \\{. \\_\\} = \\{\\} \\\\ \n",
    " 1 & \\text{falls} & m \\setminus  \\{: * \\}  = \\{\\}\\\\ \n",
    "\\end{matrix}\\right. $$\n",
    "\n",
    "Und die gesamte Kodierung:\n",
    "\n",
    "\n",
    "$$\\mathcal{B}(x) := \\prod_{i = 1}^{|x|} \\left[\\Psi|\\Lambda|\\Phi\\right] \\circ\\mathcal{M}(x_i)$$"
   ]
  },
  {
   "cell_type": "code",
   "execution_count": 8,
   "metadata": {},
   "outputs": [],
   "source": [
    "class EncoderTwo(Encoder):\n",
    "    def encode_binary(self, codes):\n",
    "        stream = BitArray()\n",
    "        for x in codes.split(' '):\n",
    "            stream = stream|self.psi(x)|self.lmbda(x)|self.phi(x)\n",
    "        return stream\n",
    "    \n",
    "\n",
    "    def decode_binary(self, stream):\n",
    "        chars, i = [], 0\n",
    "        while i < len(stream):\n",
    "            letter = not bool(stream[i])\n",
    "            char_length = int(stream[i+1:i+4])+1\n",
    "            chars.append(''.join(self.phi_inv(stream[i+4:i+4+char_length], letter)))\n",
    "            i += 4 + char_length \n",
    "        return ' '.join(chars)\n",
    "    \n",
    "    def psi(self, text):\n",
    "        if not set(text) - {'.', '_'}:\n",
    "            return BitArray('0')\n",
    "        elif not set(text) - {'*', ':'}:\n",
    "            return BitArray('1')\n",
    "    \n",
    "    def phi(self, text):\n",
    "        b = BitArray()\n",
    "        for char in text:\n",
    "            if char in {'.', ':'}:\n",
    "                b = b|BitArray('0')\n",
    "            elif char in {'_', '*'}:\n",
    "                b = b|BitArray('1')\n",
    "        return b\n",
    "    \n",
    "    def phi_inv(self, stream, letter):\n",
    "        return ''.join((['.', '_'] if letter else [':', '*'])[int(bit)] for bit in stream())\n",
    "    \n",
    "    def lmbda(self, text):\n",
    "        return BitArray(len(text) - 1, length=3)"
   ]
  },
  {
   "cell_type": "code",
   "execution_count": 9,
   "metadata": {},
   "outputs": [
    {
     "name": "stdout",
     "output_type": "stream",
     "text": [
      "_ . ._.. ._.. : __ . : .__ .... ._ _ : _.. ___ : _.__ ___ .._ : _.. ___ : .__ .. _ .... : .__ .. _ _._. .... . ... * : _... .._ ._. _. : _... .._ ._. _. : _... .._ ._. _. * * * : .__ .... ._ _ : _.. ___ : _.__ ___ .._ : _... .._ ._. _. : ._ .__. ._ ._. _ : .._. ._. ___ __ : .__ .. _ _._. .... . ... * : __ ___ ._. . : .__ .. _ _._. .... . ... * * * : .__ ___ ___ _.. * : ... ___ : .__ .... _.__ : _.. ___ : .__ .. _ _._. .... . ... : _... .._ ._. _. * : _._. ._ .._ ... . : _ .... . _.__ ._. . : __ ._ _.. . : ___ .._. * * * : .__ ___ ___ _.. * : ... ___ : .... ___ .__ : _.. ___ : .__ . : _ . ._.. ._.. : .. .._. : ... .... . : .. ... : __ ._ _.. . : ___ .._. : .__ ___ ___ _.. * : _... .._ .. ._.. _.. : ._ : _... ._. .. _.. __. . : ___ .._ _ : ___ .._. : .... . ._. * : ._ .... .... : _... .._ _ : _._. ._ _. : _.__ ___ .._ : _. ___ _ : ._ ._.. ... ___ : __ ._ _._ . : _... ._. .. _.. __. . ... : ___ .._ _ : ___ .._. : ... _ ___ _. . * : ___ .... : _.__ . ._ .... * * * : _.. ___ . ... : .__ ___ ___ _.. : ... .. _. _._ : .. _. : .__ ._ _ . ._. * : _. ___ * : .. _ : .._. ._.. ___ ._ _ ... * : ._.. . _ ... : _ .... ._. ___ .__ : .... . ._. : .. _. _ ___ : _ .... . : _... ___ __. * : .__ .... ._ _ : ._ ._.. ... ___ : .._. ._.. ___ ._ _ ... : .. _. : .__ ._ _ . ._. * : _... ._. . ._ _.. * : ._ .__. .__. ._.. . ... * : ..._ . ._. _.__ : ... __ ._ ._.. ._.. : ._. ___ _._. _._ ... * : _._. .. _.. . ._. * : __. ._. ._ .__. . : __. ._. ._ ..._ _.__ * : _._. .... . ._. ._. .. . ... * : __ .._ _.. * : ._ : _.. .._ _._. _._ * : . _.._ ._ _._. _ ._.. _.__ * : ... ___ : ._.. ___ __. .. _._. ._ ._.. ._.. _.__ * * * : .. .._. : ... .... . : .__ ._ _.__ ... : _ .... . : ... ._ __ . : ._ ... : ._ : _.. .._ _._. _._ * * * : ... .... . ... : __ ._ _.. . : ___ .._. : .__ ___ ___ _.. * : ._ _. _.. : _ .... . ._. . .._. ___ ._. . * * * : ._ : .__ .. _ _._. .... * : .__ . : ... .... ._ ._.. ._.. : .._ ... . : __ _.__ : ._.. ._ ._. __. . ... _ : ... _._. ._ ._.. . ... * :\n",
      "BitArray[0000100000001101000011010010000000111000001000000100110011000000010100001100000010100001011110000001110110010111001000110000001010000101111000000100110001000000100110000100000010011000100000010011101000110000000000010000100011000000111000001000100100100001101000000111000001000100100100001101000000111000001000100100100001101000110001100011000000100110011000000010100001100000010100001011110000001110110010111001000110000001110000010001001001000011010000000101001101100001010010010000011000000110010001001000101110001111000000100110001000000100111010001100000000000100001000110000000111001011100100100000010000001001100010000001001110100011000000000001000010001100011000110000001001100101110010111001010010001100000010000001011110000001001100110000001110111000000101000010111100000010011000100000010011101000110000000000010000100000011100000100010010010000110100011000000111010000101001000100100000000010000000010011000000000001110110010010000001000000011100010100101000000010000001011100110010100011000110001100000010011001011100101110010100100011000000100000010111100000011000000101110010011100000010100001011110000001001100000100000000100000001101000011010010000000100001100101000000100000011000000000100000001000010000100000001110001010010100000001000000101110011001010000001001100101110010111001010010001100000011100000100010001000011010000101001000000010110000001110000010010000100001010000101100000010000001011100100010000110000001011100110010100000011000000000001001010001100000001010011000000110000100000011100000100010000110000001110100001010001101000000111011001011100100011000000011000101110000110000000101001101000010000001011110000000111000101001010100000100000011100000100100001000010100001011000000001000010000001011100100010000110000001011100110010100000010000000010010111000110000001000110000001011100110000100000011101100000000101001100001000110001100011000000101000010111000000010000100000010011001011100101110010100100000010000000100000110001010110000000100000110100000010011000101000010000000100101000110000000110001011110001100000001000000110000001100100011010000101110001010000100100001000110000001101000000000001001000010000000010011000000100100010111001001110000001100000000000100101000000010000011000001001011110000000010011000000000100000011100000101110010110100011000000100110011000000010100001100000001010011010000100000010111100000011001000110100001011100010100001001000010000000100000110100000010011000101000010000000100101000110000001110000010010000000001010010100100011000000010100110110001101100011010000000001000010001100000011000100000001001000111011100000010000000111000101001101000011010010000001001000101110011101000101010010000100011000000111010000100001010000000001001010001100000010110001001000010100110110000001000000101100010010000101001100010011101110001100000011101000110000000000010010001001000010000000001000010001100000001110010001001010010001100000001011000000101000010001001110100010101100011000000000001110010001010011101000001001101000011101110001100000010000001011110000001101000010111001011000010000111010000101001101000011010000111011100011000110001100000001000011001010000001000000110000000001000000100110001010011101100100001000000001001100000000010000001000000010100011100000100000001010010000100000001011000000101000010001001110100010101100011000110001100000010000001100000000000100001000000011100010100101000000010000001011100110010100000010011001011100101110010100100011000000010100011000101001000000001001100000000000100100000000110010001011100100100000010001100011000110000000101100000010011000100000010011101000110000100011000000100110000010000001000000110000000101001101000011010010000001000100100000000010000000111001110111000000110100000101001001000101100000000100000000110000001000000111010000101001101000000000100001000110000]\n"
     ]
    }
   ],
   "source": [
    "two = EncoderTwo()\n",
    "stream = two.encode(witch, True)\n",
    "print(repr(stream))"
   ]
  },
  {
   "cell_type": "code",
   "execution_count": 10,
   "metadata": {},
   "outputs": [
    {
     "name": "stdout",
     "output_type": "stream",
     "text": [
      "TELL ME WHAT DO YOU DO WITH WITCHES. BURN BURN BURN... WHAT DO YOU BURN APART FROM WITCHES. MORE WITCHES... WOOD. SO WHY DO WITCHES BURN. CAUSE THEYRE MADE OF... WOOD. SO HOW DO WE TELL IF SHE IS MADE OF WOOD. BUILD A BRIDGE OUT OF HER. AHH BUT CAN YOU NOT ALSO MAKE BRIDGES OUT OF STONE. OH YEAH... DOES WOOD SINK IN WATER. NO. IT FLOATS. LETS THROW HER INTO THE BOG. WHAT ALSO FLOATS IN WATER. BREAD. APPLES. VERY SMALL ROCKS. CIDER. GRAPE GRAVY. CHERRIES. MUD. A DUCK. EXACTLY. SO LOGICALLY... IF SHE WAYS THE SAME AS A DUCK... SHES MADE OF WOOD. AND THEREFORE... A WITCH. WE SHALL USE MY LARGEST SCALES. \n"
     ]
    }
   ],
   "source": [
    "text = two.decode(stream)\n",
    "print(text)"
   ]
  },
  {
   "cell_type": "code",
   "execution_count": 11,
   "metadata": {},
   "outputs": [
    {
     "name": "stdout",
     "output_type": "stream",
     "text": [
      "VE74VENEE . BURN BURN BURN... WHAT DO YOU BURN APART FROM WITCHES. MORE WITCHES... WOOD. SO WHY DO WITCHES BURN. CAUSE THEYRE MADE OF... WOOD. SO HOW DO WE TELL IF SHE IS MADE OF WOOD. BUILD A BRIDGE OUT OF HER. AHH BUT CAN YOU NOT ALSO MAKE BRIDGES OUT OF STONE. OH YEAH... DOES WOOD SINK IN WATER. NO. IT FLOATS. LETS THROW HER INTO THE BOG. WHAT ALSO FLOATS IN WATER. BREAD. APPLES. VERY SMALL ROCKS. CIDER. GRAPE GRAVY. CHERRIES. MUD. A DUCK. EXACTLY. SO LOGICALLY... IF SHE WAYS THE SAME AS A DUCK... SHES MADE OF WOOD. AND THEREFORE... A WITCH. WE SHALL USE MY LARGEST SCALES. \n"
     ]
    }
   ],
   "source": [
    "file_name = 'witch_two.b'\n",
    "two.write(witch, file_name)\n",
    "print(two.read(file_name))"
   ]
  },
  {
   "cell_type": "code",
   "execution_count": 12,
   "metadata": {},
   "outputs": [
    {
     "name": "stdout",
     "output_type": "stream",
     "text": [
      "\n",
      "Length of Text->ASCII encoding:\t\t4256 bit\n",
      "Length of Morse->Binary encoding:\t3796 bit\n",
      "Redutcion by:\t\t\t\t10.8%\n",
      "\n"
     ]
    }
   ],
   "source": [
    "two.compare(witch)"
   ]
  },
  {
   "cell_type": "markdown",
   "metadata": {},
   "source": [
    "### Dritter Ansatz\n",
    "Bislang sind immernoch einige redundante Informationen enthalten. Zum Beispiel ist bereits bekannt, dass das Folgende Symbol die Länge 1 hat, wenn es sich um ein Satzzeichen handelt. $$\\left[\\Psi(m) = 1\\right] \\rightarrow \\left[ \\Lambda(m) = 1\\right]$$\n",
    "Wir erstellen eine Tabelle für verschiedene Präfixe, welche uns die Information über Länge $\\Lambda$ und Symbolart $\\Gamma$ kodieren. \n",
    "\n",
    "$$ \\Gamma(m) := \\left\\{ \\begin{matrix}\n",
    "0 & \\text{falls} &  m \\in Alphabet\\cup Numerals \\\\\n",
    "1 & \\text{falls} & m \\in \\{ * : \\} \\\\\n",
    "\\end{matrix} \\right. $$\n",
    "\n",
    "Da zwei Bits im Präfix unbelegt sind, bilden wir darin direkt die beiden Optionen für die Satzzeichen mit ab.\n",
    "\n",
    "|Code|$\\Gamma$|$\\Lambda$|$m$|\n",
    "|----|---------|--------|---|\n",
    "|$000$|0|1|?|\n",
    "|$001$|0|2|?|\n",
    "|$010$|0|3|?|\n",
    "|$011$|0|4|?|\n",
    "|$100$|0|5|?|\n",
    "|$101$|1|1|`:`|\n",
    "|$110$|1|1|`*`|"
   ]
  },
  {
   "cell_type": "code",
   "execution_count": 13,
   "metadata": {},
   "outputs": [],
   "source": [
    "class EncoderThree(Encoder):\n",
    "    def __init__(self):\n",
    "        super().__init__()\n",
    "        self.prefix = {\n",
    "            (True, 1, None): 0,\n",
    "            (True, 2, None): 1,\n",
    "            (True, 3, None): 2,\n",
    "            (True, 4, None): 3,\n",
    "            (True, 5, None): 4,\n",
    "            (False, 1, ':'): 5,\n",
    "            (False, 1, '*'): 6,\n",
    "        }\n",
    "        self.prefix_inv = {v: k for k, v in self.prefix.items()}\n",
    "\n",
    "    def encode_binary(self, codes):\n",
    "        stream = BitArray()\n",
    "        for x in codes.split(' '):\n",
    "            stream = stream|BitArray(self.prefix[\n",
    "                not bool(set(x)-{'_', '.'}),\n",
    "                len(x),\n",
    "                x if (punctuation := x in {'*', ':'}) else None,\n",
    "            ], length=3)\n",
    "            if not punctuation:\n",
    "                stream = stream|self.phi(x)\n",
    "        return stream\n",
    "\n",
    "    def decode_binary(self, stream):\n",
    "        chars, i = [], 0\n",
    "        while i < len(stream):\n",
    "            letter, char_length, punctuation = self.prefix_inv[int(stream[i:i+3])]\n",
    "            if letter:\n",
    "                chars.append(''.join(self.phi_inv(stream[i+3:i+3+char_length])))\n",
    "                i += 3 + char_length \n",
    "            else:\n",
    "                chars.append(punctuation)\n",
    "                i += 2 + char_length\n",
    "        return ' '.join(chars)\n",
    "    \n",
    "    def phi(self, text):\n",
    "        b = BitArray()\n",
    "        for char in text:\n",
    "            if char == '.':\n",
    "                b = b|BitArray('0')\n",
    "            elif char == '_':\n",
    "                b = b|BitArray('1')\n",
    "        return b\n",
    "    \n",
    "    def phi_inv(self, stream):\n",
    "        return ''.join(['.', '_'][int(bit)] for bit in stream())"
   ]
  },
  {
   "cell_type": "code",
   "execution_count": 14,
   "metadata": {},
   "outputs": [
    {
     "name": "stdout",
     "output_type": "stream",
     "text": [
      "_ . ._.. ._.. : __ . : .__ .... ._ _ : _.. ___ : _.__ ___ .._ : _.. ___ : .__ .. _ .... : .__ .. _ _._. .... . ... * : _... .._ ._. _. : _... .._ ._. _. : _... .._ ._. _. * * * : .__ .... ._ _ : _.. ___ : _.__ ___ .._ : _... .._ ._. _. : ._ .__. ._ ._. _ : .._. ._. ___ __ : .__ .. _ _._. .... . ... * : __ ___ ._. . : .__ .. _ _._. .... . ... * * * : .__ ___ ___ _.. * : ... ___ : .__ .... _.__ : _.. ___ : .__ .. _ _._. .... . ... : _... .._ ._. _. * : _._. ._ .._ ... . : _ .... . _.__ ._. . : __ ._ _.. . : ___ .._. * * * : .__ ___ ___ _.. * : ... ___ : .... ___ .__ : _.. ___ : .__ . : _ . ._.. ._.. : .. .._. : ... .... . : .. ... : __ ._ _.. . : ___ .._. : .__ ___ ___ _.. * : _... .._ .. ._.. _.. : ._ : _... ._. .. _.. __. . : ___ .._ _ : ___ .._. : .... . ._. * : ._ .... .... : _... .._ _ : _._. ._ _. : _.__ ___ .._ : _. ___ _ : ._ ._.. ... ___ : __ ._ _._ . : _... ._. .. _.. __. . ... : ___ .._ _ : ___ .._. : ... _ ___ _. . * : ___ .... : _.__ . ._ .... * * * : _.. ___ . ... : .__ ___ ___ _.. : ... .. _. _._ : .. _. : .__ ._ _ . ._. * : _. ___ * : .. _ : .._. ._.. ___ ._ _ ... * : ._.. . _ ... : _ .... ._. ___ .__ : .... . ._. : .. _. _ ___ : _ .... . : _... ___ __. * : .__ .... ._ _ : ._ ._.. ... ___ : .._. ._.. ___ ._ _ ... : .. _. : .__ ._ _ . ._. * : _... ._. . ._ _.. * : ._ .__. .__. ._.. . ... * : ..._ . ._. _.__ : ... __ ._ ._.. ._.. : ._. ___ _._. _._ ... * : _._. .. _.. . ._. * : __. ._. ._ .__. . : __. ._. ._ ..._ _.__ * : _._. .... . ._. ._. .. . ... * : __ .._ _.. * : ._ : _.. .._ _._. _._ * : . _.._ ._ _._. _ ._.. _.__ * : ... ___ : ._.. ___ __. .. _._. ._ ._.. ._.. _.__ * * * : .. .._. : ... .... . : .__ ._ _.__ ... : _ .... . : ... ._ __ . : ._ ... : ._ : _.. .._ _._. _._ * * * : ... .... . ... : __ ._ _.. . : ___ .._. : .__ ___ ___ _.. * : ._ _. _.. : _ .... . ._. . .._. ___ ._. . * * * : ._ : .__ .. _ _._. .... * : .__ . : ... .... ._ ._.. ._.. : .._ ... . : __ _.__ : ._.. ._ ._. __. . ... _ : ... _._. ._ ._.. . ... * :\n",
      "BitArray[0001000001101000110100101001110000101010011011000000101000110101010001011110101110110101110100011010101000101111010100110010000010110000101010011001000001011101001100000000010000110101011100001000101001000110101011100001000101001000110101011100001000101001000110110110110101010011011000000101000110101010001011110101110110101110100011010111000010001010010001101010010101101100010101001000011010110010010010010111001111010100110010000010111010011000000000100001101010011101011101001000001010100110010000010111010011000000000100001101101101010100110101110101110101001101010100000101111010100110110000011101110101010001011110101001100100000101110100110000000001000010101110000100010100100011011010101110100010101000101000000001010001011000000000111011010010000010100111001010101000000101010111011001011011011010101001101011101011101010011010101000001011110101100000101110100111010101000101111010100110000101000100000110100011010010100100011001010101000001100000000101001000100001010011100101010100000010101011101100101010100110101110101110101001101010111000010001001000110100010100101001011010111000010010001000101000101100000101010111010001000110101011101100101010110000000001001011010100101011000001100001010111000010001000110101110100010100110101011101101011101000110100110010111000110100101011010001000001011110100111001010101010000101011100001001000100010100010110000001000010101011101000100011010101110110010101010000000101011100110000011010101011101100001010111011000000101011000011011011010101010001011100000100001010100110101110101110101001010100000010000110010101101001000011010101001100101000100000100101101010011001011111010100100000110101100100110100010111001010001010000110101011010000000001010000101000101100000100100101110100111010110000000001001010100100001100001010111101000101100000000101011100001011101011011010101001101100000010100011010010101101000100000101111010110010011010001011100101000101000010100100001101010100110010100010000010010110101011100001001000000010101010011010100101011011001101100110100000001000011010101100010000010010011101110101000000111001010110100011010010101001001011101110100101010100001101010111010001000101000000010010110101010110010010001010110110000010101011001001000101011000101110111101010111010011000000000100100100100010000000100001101010011101000101010011010100101101010100010001011101001010111010100000111001001010111010000101101000111011110101010000010111101011010001011101011000100011101000101011010001101000111011110110110101001000110010101010000011000000001010100110010101110110100001010001011000000001010100000010100111000010100101010000101001011010101000100010111010010101110110110101010000011000000000100001010011100101010100000010101011101100101010100110101110101110101001101010010100110010100101000101100000000010010000001100100101110100100000110110110101001011010100110010000010111010011000011010101001100001010100000110000001010110100011010010101000101000000001010011101110111010110100001010100100101100000010000000110101000001110100010101101000000010000110101]\n"
     ]
    }
   ],
   "source": [
    "three = EncoderThree()\n",
    "stream = three.encode(witch, True)\n",
    "print(repr(stream))"
   ]
  },
  {
   "cell_type": "code",
   "execution_count": 15,
   "metadata": {},
   "outputs": [
    {
     "name": "stdout",
     "output_type": "stream",
     "text": [
      "TELL ME WHAT DO YOU DO WITH WITCHES. BURN BURN BURN... WHAT DO YOU BURN APART FROM WITCHES. MORE WITCHES... WOOD. SO WHY DO WITCHES BURN. CAUSE THEYRE MADE OF... WOOD. SO HOW DO WE TELL IF SHE IS MADE OF WOOD. BUILD A BRIDGE OUT OF HER. AHH BUT CAN YOU NOT ALSO MAKE BRIDGES OUT OF STONE. OH YEAH... DOES WOOD SINK IN WATER. NO. IT FLOATS. LETS THROW HER INTO THE BOG. WHAT ALSO FLOATS IN WATER. BREAD. APPLES. VERY SMALL ROCKS. CIDER. GRAPE GRAVY. CHERRIES. MUD. A DUCK. EXACTLY. SO LOGICALLY... IF SHE WAYS THE SAME AS A DUCK... SHES MADE OF WOOD. AND THEREFORE... A WITCH. WE SHALL USE MY LARGEST SCALES. \n"
     ]
    }
   ],
   "source": [
    "text = three.decode(stream)\n",
    "print(text)"
   ]
  },
  {
   "cell_type": "code",
   "execution_count": 16,
   "metadata": {},
   "outputs": [
    {
     "name": "stdout",
     "output_type": "stream",
     "text": [
      "BURN... WHAT DO YOU BURN APART FROM WITCHES. MORE WITCHES... WOOD. SO WHY DO WITCHES BURN. CAUSE THEYRE MADE OF... WOOD. SO HOW DO WE TELL IF SHE IS MADE OF WOOD. BUILD A BRIDGE OUT OF HER. AHH BUT CAN YOU NOT ALSO MAKE BRIDGES OUT OF STONE. OH YEAH... DOES WOOD SINK IN WATER. NO. IT FLOATS. LETS THROW HER INTO THE BOG. WHAT ALSO FLOATS IN WATER. BREAD. APPLES. VERY SMALL ROCKS. CIDER. GRAPE GRAVY. CHERRIES. MUD. A DUCK. EXACTLY. SO LOGICALLY... IF SHE WAYS THE SAME AS A DUCK... SHES MADE OF WOOD. AND THEREFORE... A WITCH. WE SHALL USE MY LARGEST SCALES. \n"
     ]
    }
   ],
   "source": [
    "file_name = 'witch_three.b'\n",
    "three.write(witch, file_name)\n",
    "print(three.read(file_name))"
   ]
  },
  {
   "cell_type": "code",
   "execution_count": 17,
   "metadata": {},
   "outputs": [
    {
     "name": "stdout",
     "output_type": "stream",
     "text": [
      "\n",
      "Length of Text->ASCII encoding:\t\t4256 bit\n",
      "Length of Morse->Binary encoding:\t3025 bit\n",
      "Redutcion by:\t\t\t\t28.9%\n",
      "\n"
     ]
    }
   ],
   "source": [
    "three.compare(witch)"
   ]
  }
 ],
 "metadata": {
  "kernelspec": {
   "display_name": "Python 3",
   "language": "python",
   "name": "python3"
  },
  "language_info": {
   "codemirror_mode": {
    "name": "ipython",
    "version": 3
   },
   "file_extension": ".py",
   "mimetype": "text/x-python",
   "name": "python",
   "nbconvert_exporter": "python",
   "pygments_lexer": "ipython3",
   "version": "3.8.2"
  }
 },
 "nbformat": 4,
 "nbformat_minor": 2
}
