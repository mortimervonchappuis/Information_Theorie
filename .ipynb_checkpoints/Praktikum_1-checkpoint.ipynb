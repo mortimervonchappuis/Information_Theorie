{
 "cells": [
  {
   "cell_type": "markdown",
   "metadata": {},
   "source": [
    "# BitArray\n",
    "\n",
    "Um bequem mit den einzelnen Bits zu operieren wird eine Klasse `BitArray` erstellt, welche den wert als `int` abspeichert und Methoden zur Auslesung, Überschreibung, Sequenzierung und Konkatenation ermöglicht."
   ]
  },
  {
   "cell_type": "code",
   "execution_count": 1,
   "metadata": {},
   "outputs": [],
   "source": [
    "class BitArray:\n",
    "    def __init__(self, bits=None, length=None):\n",
    "        if bits is None:\n",
    "            self.array = 0\n",
    "            self.length = 0\n",
    "        elif type(bits) in {chr, str}:\n",
    "            self.array = int(bits, 2)\n",
    "            self.length = len(bits)\n",
    "        elif type(bits) == int:\n",
    "            self.array = bits\n",
    "            self.length = length if length else bits.bit_length()\n",
    "        elif type(bits) == BitArray:\n",
    "            self.array = bits.array\n",
    "            self.length = bits.length\n",
    "        else:\n",
    "            raise Exception(f'Bits must be of type str or int. {type(bits)} is something completly different.')\n",
    "    \n",
    "    def __call__(self, step=1):\n",
    "        for i in range(0, len(self), step):\n",
    "            if i+step <= len(self):\n",
    "                yield self[i:i+step]\n",
    "    \n",
    "    def __getitem__(self, idx):\n",
    "        if type(idx) == slice:\n",
    "            start = (idx.start if idx.start is not None else 0) % len(self)\n",
    "            stop = (idx.stop if idx.stop is not None else len(self)) % (len(self) + 1)\n",
    "            return BitArray((self.array >> len(self) - stop) & ((1 << stop - start) - 1), length=stop - start)\n",
    "        else:\n",
    "            return BitArray(self.array & 1 << (len(self) - idx - 1) , length=1)\n",
    "    \n",
    "    def __setitem__(self, idx, value):\n",
    "        if type(value) != BitArray:\n",
    "            raise Exception(f'Value must be of type BitArray. {type(value)} is something completly different.')\n",
    "        cutoff = min(len(self), idx + len(value))\n",
    "        self.array = (self[:idx]|value[:cutoff]|self[cutoff:]).array\n",
    "    \n",
    "    def __or__(self, other):\n",
    "        return BitArray(self.array << len(other)|other.array, length=len(self) + len(other))\n",
    "    \n",
    "    def __repr__(self):\n",
    "        return f'BitArray[{str(self)}]'\n",
    "    \n",
    "    def __str__(self):\n",
    "        if self.array is not None:\n",
    "            return bin(self.array).replace('0b', '').zfill(len(self))[:len(self)]\n",
    "        else:\n",
    "            return ''\n",
    "    \n",
    "    def __len__(self):\n",
    "        return self.length\n",
    "    \n",
    "    def __int__(self):\n",
    "        return self.array\n",
    "    \n",
    "    def __bool__(self):\n",
    "        return bool(self.array)\n",
    "    \n",
    "    def __eq__(self, other):\n",
    "        return self.array == other.array and len(self) == len(other)"
   ]
  },
  {
   "cell_type": "markdown",
   "metadata": {},
   "source": [
    "# Morse Code\n",
    "\n",
    "Die Morsekodierung bildet von der Menge des Alphabets auf eine Menge bestehend aus weniger Zeichen ab. Die Kodierung für ein einzelnes Zeichen ist damit:\n",
    "\n",
    "$$ \\Omega := Alphabet \\cup Numerals \\cup  \\{ {. \\_} \\}$$\n",
    "$$ \\Sigma :=  \\{ .  \\_ : *   \\} $$\n",
    "$$ \\mathcal{M}: \\Omega \\mapsto Morse \\: Code \\subset \\Sigma ^{+}$$\n",
    "\n",
    "Um die Kodierung mehrer Zeichen $Morse^n$ zu ermöglichen, muss eine Trennung der einzelnen Zeichen aus $Morse$ erfolgen, um die Eindeutligkeit zu gewähren. Dies wird auf der Ebene des Morsecodes durch eine Trennung per Leerzeichen `SPACE` zur Abgrenzung der einzelnen Alphabetsbuchstaben ermöglicht:\n",
    "\n",
    "$$ \\mathcal{M}^{n=1}: \\Omega \\mapsto \\mathcal{M} $$ \n",
    "$$ \\mathcal{M}^{n\\neq 1}: \\Omega^n \\mapsto \\mathcal{M} \\circ \\_ \\circ \\mathcal{M}^{n-1} $$\n",
    "\n",
    "### Ansatz eins\n",
    "\n",
    "\n",
    "Die dadurch erzeugte Folge kann nun weiter binär kodiert werden. Hierzu werden die Elemente aus $\\Sigma$ auf 2 Bit abgebildet.\n",
    "\n",
    "$$ \\Phi : \\Sigma \\mapsto \\{0, 1\\}^2$$\n",
    "\n",
    "Da in $\\mathcal{M}^n$ jedoch noch das Zeichen `SPACE` enthalen ist, muss eine binäre Kodierung für $\\mathcal{M}^n$ die Abbildung $\\Phi$ erweitern. Eine naive Methode wäre es, $\\Sigma$ um $\\_$ zu erweitern, dies hätte jedoch den nachteil, dass wir dann 3 Bit für die Abbildung $\\mathcal{B}$ bräuchten. Da $\\forall c \\in \\Omega: |\\mathcal{M}(c)| \\in [1, 5]$, können wir für jedes `SPACE` $\\in \\mathcal{M}^n$ die Schritweite \\[bit\\] $\\Lambda$ bis zum nächten `SPACE` kodieren.\n",
    "\n",
    "$$\\Lambda: \\mathcal{M} \\mapsto \\{0, 1\\}^2$$\n",
    "$$\\Lambda(m) := 2\\cdot(|m|-1)_{bin}$$\n",
    "\n",
    "Damit kann beim Dekodieren $\\mathcal{\\bar{B}}^m$ zwischen den Schritten des Auslesens der Länge des nächsten Blocks $\\Lambda(m)$ und dem Auslesen des nächsten Blocks $\\bar{\\Phi}$ alterniert werden. Sei $\\prod$ eine Konkatenation:\n",
    "\n",
    "$$\\mathcal{B}(x) := \\prod_{i = 1}^{|x|}\\left[\\Lambda\\circ\\mathcal{M}(x_i) | \\Phi^n\\circ\\mathcal{M}(x_i)\\right]$$"
   ]
  },
  {
   "cell_type": "code",
   "execution_count": 2,
   "metadata": {},
   "outputs": [],
   "source": [
    "class EncoderOne:\n",
    "    def __init__(self):\n",
    "        self.morse = {'A': '._', 'B': '_...', 'C': '_._.', 'D': '_..', 'E': '.', 'F': '.._.', 'G': '__.', 'H': '....', 'I': '..', 'J': '.___', 'K': '_._', 'L': '._..', 'M': '__', 'N': '_.', 'O': '___', 'P': '.__.', 'Q': '__._', 'R': '._.', 'S': '...', 'T': '_', 'U': '.._', 'V': '..._', 'W': '.__', 'X': '_.._', 'Y': '_.__', 'Z': '__..', '0': '_____', '1': '.____', '2': '..___', '3': '...__', '4': '...._', '5': '.....', '6': '_....', '7': '__...', '8': '___..', '9': '____.', ' ': ':', '.': '*',}\n",
    "        self.morse_inv = {v: k for k, v in self.morse.items()}\n",
    "        self.binary = {'.': 0b00, '_': 0b01, ':': 0b10, '*': 0b11,}\n",
    "        self.binary_inv = {v: k for k, v in self.binary.items()}\n",
    "    \n",
    "    def encode(self, x, status=False):\n",
    "        if set(self.binary.keys()) - set(x):\n",
    "            x = self.encode_morse(x)\n",
    "            if status: print(x)\n",
    "        x = self.encode_binary(x)\n",
    "        return x\n",
    "\n",
    "    def decode(self, x, status=False):\n",
    "        if isinstance(x, BitArray):\n",
    "            x = self.decode_binary(x)\n",
    "            if status: print(x)\n",
    "        x = self.decode_morse(x)\n",
    "        return x\n",
    "    \n",
    "    def encode_morse(self, text):\n",
    "        return ' '.join(self.morse[char] for char in text.upper() if char in self.morse)\n",
    "\n",
    "    def decode_morse(self, text):\n",
    "        return ''.join(self.morse_inv[code] for code in text.split(' ') if code in self.morse_inv)\n",
    "    \n",
    "    def encode_binary(self, codes):\n",
    "        stream = BitArray()\n",
    "        for code in codes.split(' '):\n",
    "            stream = stream|BitArray(len(code)-1, 2)\n",
    "            for char in code:\n",
    "                stream = stream|BitArray(self.binary[char], length=2)\n",
    "        return stream\n",
    "    \n",
    "\n",
    "    def decode_binary(self, stream):\n",
    "        chars, i = [], 0\n",
    "        while i < len(stream):\n",
    "            char_length = (int(stream[i:i+2])+1)*2\n",
    "            chars.append(''.join(self.binary_inv[int(x)] for x in stream[i+2:i+2+char_length](2)))\n",
    "            i += 2 + char_length \n",
    "        return ' '.join(chars)\n",
    "    \n",
    "    def read(self, file, status=False):\n",
    "        with open(file, 'r') as file:\n",
    "            x = file.read().strip()\n",
    "            if set(x) - {'0', '1'}:\n",
    "                return self.encode(x, status)\n",
    "            else:\n",
    "                return self.decode(BitArray(x), status)\n",
    "    \n",
    "    def write(self, x, file, status=False):\n",
    "        with open(file, 'w') as file:\n",
    "            if isinstance(x, BitArray):\n",
    "                file.write(self.decode(x, status))\n",
    "            else:\n",
    "                file.write(str(self.encode(x, status)))"
   ]
  },
  {
   "cell_type": "code",
   "execution_count": 3,
   "metadata": {},
   "outputs": [
    {
     "name": "stdout",
     "output_type": "stream",
     "text": [
      "_ . ._.. ._.. : __ . : .__ .... ._ _ : _.. ___ : _.__ ___ .._ : _.. ___ : .__ .. _ .... : .__ .. _ _._. .... . ... * : _... .._ ._. _. : _... .._ ._. _. : _... .._ ._. _. * * * : .__ .... ._ _ : _.. ___ : _.__ ___ .._ : _... .._ ._. _. : ._ .__. ._ ._. _ : .._. ._. ___ __ : .__ .. _ _._. .... . ... * : __ ___ ._. . : .__ .. _ _._. .... . ... * * * : .__ ___ ___ _.. * : ... ___ : .__ .... _.__ : _.. ___ : .__ .. _ _._. .... . ... : _... .._ ._. _. * : _._. ._ .._ ... . : _ .... . _.__ ._. . : __ ._ _.. . : ___ .._. * * * : .__ ___ ___ _.. * : ... ___ : .... ___ .__ : _.. ___ : .__ . : _ . ._.. ._.. : .. .._. : ... .... . : .. ... : __ ._ _.. . : ___ .._. : .__ ___ ___ _.. * : _... .._ .. ._.. _.. : ._ : _... ._. .. _.. __. . : ___ .._ _ : ___ .._. : .... . ._. * : ._ .... .... : _... .._ _ : _._. ._ _. : _.__ ___ .._ : _. ___ _ : ._ ._.. ... ___ : __ ._ _._ . : _... ._. .. _.. __. . ... : ___ .._ _ : ___ .._. : ... _ ___ _. . * : ___ .... : _.__ . ._ .... * * * : _.. ___ . ... : .__ ___ ___ _.. : ... .. _. _._ : .. _. : .__ ._ _ . ._. * : _. ___ * : .. _ : .._. ._.. ___ ._ _ ... * : ._.. . _ ... : _ .... ._. ___ .__ : .... . ._. : .. _. _ ___ : _ .... . : _... ___ __. * : .__ .... ._ _ : ._ ._.. ... ___ : .._. ._.. ___ ._ _ ... : .. _. : .__ ._ _ . ._. * : _... ._. . ._ _.. * : ._ .__. .__. ._.. . ... * : ..._ . ._. _.__ : ... __ ._ ._.. ._.. : ._. ___ _._. _._ ... * : _._. .. _.. . ._. * : __. ._. ._ .__. . : __. ._. ._ ..._ _.__ * : _._. .... . ._. ._. .. . ... * : __ .._ _.. * : ._ : _.. .._ _._. _._ * : . _.._ ._ _._. _ ._.. _.__ * : ... ___ : ._.. ___ __. .. _._. ._ ._.. ._.. _.__ * * * : .. .._. : ... .... . : .__ ._ _.__ ... : _ .... . : ... ._ __ . : ._ ... : ._ : _.. .._ _._. _._ * * * : ... .... . ... : __ ._ _.. . : ___ .._. : .__ ___ ___ _.. * : ._ _. _.. : _ .... . ._. . .._. ___ ._. . * * * : ._ : .__ .. _ _._. .... * : .__ . : ... .... ._ ._.. ._.. : .._ ... . : __ _.__ : ._.. ._ ._. __. . ... _ : ... _._. ._ ._.. . ... * :\n",
      "BitArray[00010000110001000011000100000010010101000000101000010111000000000100010001001010010000100101010010110100010110010101100000010010100100001001010100101000010101000000011100000000001010000101010000000111010001001100000000000010000000001100101101000000100000011000010001010000101101000000100000011000010001010000101101000000100000011000010001010000110011001100101000010111000000000100010001001010010000100101010010110100010110010101100000010010110100000010000001100001000101000010010001110001010001000110000100000100101100000100100001001001010101010100101000010101000000011101000100110000000000001000000000110010010101100101011000010000000010100001010100000001110100010011000000000000100000000011001100110010100001011001010110010101100100000011001010000000100101010010100001011100000000110100010100101001000010010101001010000101010000000111010001001100000000000010000000001011010000001000000110000100010100001100101101000100010001100000011000000000000010000111000000000000110100010110000100000000100101010100011001000000000010100101011100000100001100110011001010000101100101011001010110010000001100101000000010010101001011000000001001010110000101001010010000100101010010100001010000001000010000110001000011000100000010010000110000010000101000000011000000000000001001000010000000001001010101000110010000000000101001010111000001000010100001011001010110010101100100000011001011010000001000000101000011000100001001000000100100010010110100000010000100010000100100001001010000000010100101011000000100010010100101011100000100001011000000000000100001000011001001000111000000001100000000001011010000001000000100010010110100010001000101010000101101000101100101011000000100100101001001010100010010010001110001000010000000100101010010010101010001100100010000001011010000001000010001000010010000100101000000100000000010100101011000000100010010100101011100000100001010000000000110010101010100000000110010100101011100000000001011010001010000010001110000000000110011001100101001000010010101000010000000001010000101100101011001010110010000001010000000010000010100100100010010010000010100001010000101010001000100001000010000110010010100100101010011001001000000010010110000010011000100001001010101000100011000000000110010110001000000000001100000000010000111000000001000010010010101100001010010110000000000001000010000100100000101000001100101010010000111000000000000001011010000001001010110010100001100101000010111000000000100010001001001000111000100001000000010010101001011000001001100010000100101010100010001100000000010010000010100001010000101010001000100001000010000110010110100000010000100000001000110010000001100100100011100010100110001010011000100000000100000000011001011000000010000100001001101000101001010000000010101010001110001000011000100000010100001001001010111010001001001000110000000001100101101000100010000100100000000100001000011001010010100100001000100011100010100000000101001010010000100010001110000000111010001010011001011010001001100000000000010000100100001000100000000100000000011001001010110000001100100000011001001000100101001000010000001110100010010010001001100100000110100000101000111010001000001110001000011010001010011001010000000100101010010110001000010010101100101000100001101000100010001110001000011000100001101000101001100110011001001000011000001000010100000001100000000000000101000010101000111010001011000000000100001110000000000000010100000000100010101010000001001000110000000001001000100101001000010000001110100010010010001001100110011001010000000110000000000001000000000100101010100011001000000000010100101011100000100001010000101100101011001010110010000001100100100010101001001000000100001110000000000001000010000001100000100100101011000010000000011001100110010010001001010000101010000000111010001001100000000001100101000010100000010100000001100000000010001110001000011000100000010100000011000000000000010010101110100010100101100010000010001100001001001010000001000000000010010100000001101000100010001110001000000001000000000110010]\n"
     ]
    }
   ],
   "source": [
    "witch = \"\"\"\n",
    "Tell me, what do you do with witches. \n",
    "Burn Burn Burn... \n",
    "What do you burn apart from witches. \n",
    "More witches... \n",
    "Wood. \n",
    "So, why do witches burn. \n",
    "Cause they're made of... wood. \n",
    "So, how do we tell if she is made of wood. \n",
    "Build a bridge out of her. \n",
    "Ahh, but can you not also make bridges out of stone. \n",
    "Oh yeah... \n",
    "Does wood sink in water. \n",
    "No. It floats. \n",
    "Let's throw her into the bog. \n",
    "What also floats in water. \n",
    "Bread. \n",
    "Apples. \n",
    "Very small rocks. \n",
    "Cider. \n",
    "Grape gravy. \n",
    "Cherries. \n",
    "Mud. \n",
    "A Duck. \n",
    "Exactly. So, logically... \n",
    "If she ways the same as a duck... she's made of wood. \n",
    "And therefore... A witch. \n",
    "We shall use my largest scales. \n",
    "\"\"\"\n",
    "\n",
    "one = EncoderOne()\n",
    "stream = one.encode(witch, True)\n",
    "print(repr(stream))"
   ]
  },
  {
   "cell_type": "code",
   "execution_count": 4,
   "metadata": {},
   "outputs": [
    {
     "name": "stdout",
     "output_type": "stream",
     "text": [
      "TELL ME WHAT DO YOU DO WITH WITCHES. BURN BURN BURN... WHAT DO YOU BURN APART FROM WITCHES. MORE WITCHES... WOOD. SO WHY DO WITCHES BURN. CAUSE THEYRE MADE OF... WOOD. SO HOW DO WE TELL IF SHE IS MADE OF WOOD. BUILD A BRIDGE OUT OF HER. AHH BUT CAN YOU NOT ALSO MAKE BRIDGES OUT OF STONE. OH YEAH... DOES WOOD SINK IN WATER. NO. IT FLOATS. LETS THROW HER INTO THE BOG. WHAT ALSO FLOATS IN WATER. BREAD. APPLES. VERY SMALL ROCKS. CIDER. GRAPE GRAVY. CHERRIES. MUD. A DUCK. EXACTLY. SO LOGICALLY... IF SHE WAYS THE SAME AS A DUCK... SHES MADE OF WOOD. AND THEREFORE... A WITCH. WE SHALL USE MY LARGEST SCALES. \n"
     ]
    }
   ],
   "source": [
    "text = one.decode(stream)\n",
    "print(text)"
   ]
  },
  {
   "cell_type": "code",
   "execution_count": 5,
   "metadata": {},
   "outputs": [
    {
     "name": "stdout",
     "output_type": "stream",
     "text": [
      "TELL ME WHAT DO YOU DO WITH WITCHES. BURN BURN BURN... WHAT DO YOU BURN APART FROM WITCHES. MORE WITCHES... WOOD. SO WHY DO WITCHES BURN. CAUSE THEYRE MADE OF... WOOD. SO HOW DO WE TELL IF SHE IS MADE OF WOOD. BUILD A BRIDGE OUT OF HER. AHH BUT CAN YOU NOT ALSO MAKE BRIDGES OUT OF STONE. OH YEAH... DOES WOOD SINK IN WATER. NO. IT FLOATS. LETS THROW HER INTO THE BOG. WHAT ALSO FLOATS IN WATER. BREAD. APPLES. VERY SMALL ROCKS. CIDER. GRAPE GRAVY. CHERRIES. MUD. A DUCK. EXACTLY. SO LOGICALLY... IF SHE WAYS THE SAME AS A DUCK... SHES MADE OF WOOD. AND THEREFORE... A WITCH. WE SHALL USE MY LARGEST SCALES. \n"
     ]
    }
   ],
   "source": [
    "file_name = 'witch_one.b'\n",
    "one.write(witch, file_name)\n",
    "print(one.read(file_name))"
   ]
  },
  {
   "cell_type": "code",
   "execution_count": 6,
   "metadata": {},
   "outputs": [
    {
     "name": "stdout",
     "output_type": "stream",
     "text": [
      "\n",
      "Length of Morse->ASCII encoding:\t4508 bit\n",
      "Length of Morse->Binary encoding:\t3944 bit\n",
      "Redutcion by:\t12.5%\n",
      "\n"
     ]
    }
   ],
   "source": [
    "def morse_ascii(text):\n",
    "    b = BitArray()\n",
    "    for char in text:\n",
    "        b = b|BitArray(ord(char), length=7)\n",
    "    return b\n",
    "\n",
    "\n",
    "ascii_encoding = morse_ascii(witch)\n",
    "\n",
    "print(f\"\"\"\n",
    "Length of Morse->ASCII encoding:\\t{len(ascii_encoding)} bit\n",
    "Length of Morse->Binary encoding:\\t{len(stream)} bit\n",
    "Redutcion by:\\t{round((1 - len(stream)/len(ascii_encoding))*100, 1)}%\n",
    "\"\"\")"
   ]
  },
  {
   "cell_type": "markdown",
   "metadata": {},
   "source": [
    "$12.5\\%$ ist zwar eine Verbesserung zur ASCIIkodierung, aber noch nicht zufriedenstellend.\n",
    "\n",
    "## Anstatz zwei\n",
    "\n",
    "Da die von $\\mathcal{M}$ kodierten Strings deutlich häufiger Symbole aus der Menge $\\{. \\_ \\}$ beinhalten als aus der Menge $\\{* :\\}$ und zwischen zwei `SPACE` lediglich Symbole aus nur einer der beiden Mengen stehen, biete es sich an im Präfix eines Blocks zu merkieren aus welcher Menge der folgende Block besteht. Dazu wird ein it hinzugefügt und jedes Symbol des folgenden Blocks kann mit einem Bit weniger dargestellt werden. Da jader Block mindestens ein bit lang ist, ist eine gleichbleibende oder verbesserte Reduktion der Kodierung gewiss.\n",
    "\n",
    "Es sei die Kodierung für die einzelnen elemente aus $\\mathcal{M}$:\n",
    "$$ \\Phi : \\Sigma \\mapsto \\{0, 1\\}$$\n",
    "$$ \\Phi(m) := \\left\\{\\begin{matrix}\n",
    " 0 & \\text{falls} & m \\in \\{. :\\} \\\\ \n",
    " 1 & \\text{falls} & m \\in \\{\\_ * \\} \\\\ \n",
    "\\end{matrix}\\right. $$\n",
    "Ferner sei:\n",
    "$$ \\Phi^{n=1}(m) := \\mathcal{B}(m) $$\n",
    "$$ \\Phi^{n\\neq 1}(m) := \\mathcal{B}^{n-1}(m)|\\mathcal{B}(m_n) $$\n",
    "\n",
    "Es sei die Blocklängenfunktion $\\Lambda$:\n",
    "$$\\Lambda: \\mathcal{M} \\mapsto \\{0, 1\\}^2$$\n",
    "$$\\Lambda(m) := |m|_{bin} - 1$$\n",
    "\n",
    "Es sei die Funktion $\\Psi$ zur determinierung um welchen block es sich handeln wird:\n",
    "$$\\Psi: \\Sigma^+ \\mapsto \\{0, 1\\}$$\n",
    "$$\\Psi(m) :=  \\left\\{\\begin{matrix}\n",
    " 0 & \\text{falls} & m \\setminus  \\{. \\_\\} = \\{\\} \\\\ \n",
    " 1 & \\text{falls} & m \\setminus  \\{: * \\}  = \\{\\}\\\\ \n",
    "\\end{matrix}\\right. $$\n",
    "\n",
    "Damit ist ein Block $f$:\n",
    "\n",
    "$$ f: \\Sigma^+ \\mapsto \\{0, 1\\}^n $$\n",
    "$$ f(x) :=  \\Psi(x)|\\Lambda(x) | \\Phi^n(x)$$\n",
    "\n",
    "Und die gesamte Kodierung:\n",
    "\n",
    "$$\\mathcal{B}(x) := \\prod_{i = 1}^{|x|}f \\circ\\mathcal{M}(x_i)$$"
   ]
  },
  {
   "cell_type": "code",
   "execution_count": 7,
   "metadata": {},
   "outputs": [],
   "source": [
    "class EncoderTwo:\n",
    "    def __init__(self):\n",
    "        self.morse = {'A': '._', 'B': '_...', 'C': '_._.', 'D': '_..', 'E': '.', 'F': '.._.', 'G': '__.', 'H': '....', 'I': '..', 'J': '.___', 'K': '_._', 'L': '._..', 'M': '__', 'N': '_.', 'O': '___', 'P': '.__.', 'Q': '__._', 'R': '._.', 'S': '...', 'T': '_', 'U': '.._', 'V': '..._', 'W': '.__', 'X': '_.._', 'Y': '_.__', 'Z': '__..', '0': '_____', '1': '.____', '2': '..___', '3': '...__', '4': '...._', '5': '.....', '6': '_....', '7': '__...', '8': '___..', '9': '____.', ' ': ':', '.': '*',}\n",
    "        self.morse_inv = {v: k for k, v in self.morse.items()}\n",
    "    \n",
    "    def encode(self, x, status=False):\n",
    "        if set(x) - {'.', '_', ':', '*'}:\n",
    "            x = self.encode_morse(x)\n",
    "            if status: print(x)\n",
    "        x = self.encode_binary(x)\n",
    "        return x\n",
    "\n",
    "    def decode(self, x, status=False):\n",
    "        if isinstance(x, BitArray):\n",
    "            x = self.decode_binary(x)\n",
    "            if status: print(x)\n",
    "        x = self.decode_morse(x)\n",
    "        return x\n",
    "    \n",
    "    def encode_morse(self, text):\n",
    "        return ' '.join(self.morse[char] for char in text.upper() if char in self.morse)\n",
    "\n",
    "    def decode_morse(self, text):\n",
    "        return ''.join(self.morse_inv[code] for code in text.split(' ') if code in self.morse_inv)\n",
    "    \n",
    "    def encode_binary(self, codes):\n",
    "        stream = BitArray()\n",
    "        for x in codes.split(' '):\n",
    "            stream = stream|self.psi(x)|self.lmbda(x)|self.phi(x)\n",
    "        return stream\n",
    "    \n",
    "\n",
    "    def decode_binary(self, stream):\n",
    "        chars, i = [], 0\n",
    "        while i < len(stream):\n",
    "            letter = not bool(stream[i])\n",
    "            char_length = int(stream[i+1:i+3])+1\n",
    "            chars.append(''.join(self.phi_inv(stream[i+3:i+3+char_length], letter)))\n",
    "            i += 3 + char_length \n",
    "        return ' '.join(chars)\n",
    "    \n",
    "    def psi(self, text):\n",
    "        if not set(text) - {'.', '_'}:\n",
    "            return BitArray('0')\n",
    "        elif not set(text) - {'*', ':'}:\n",
    "            return BitArray('1')\n",
    "    \n",
    "    def phi(self, text):\n",
    "        b = BitArray()\n",
    "        for char in text:\n",
    "            if char in {'.', ':'}:\n",
    "                b = b|BitArray('0')\n",
    "            elif char in {'_', '*'}:\n",
    "                b = b|BitArray('1')\n",
    "        return b\n",
    "    \n",
    "    def phi_inv(self, stream, letter):\n",
    "        return ''.join((['.', '_'] if letter else [':', '*'])[int(bit)] for bit in stream())\n",
    "    \n",
    "    def lmbda(self, text):\n",
    "        return BitArray(len(text) - 1, length=2)\n",
    "    \n",
    "    def read(self, file, status=False):\n",
    "        with open(file, 'r') as file:\n",
    "            x = file.read().strip()\n",
    "            if set(x) - {'0', '1'}:\n",
    "                return self.encode(x, status)\n",
    "            else:\n",
    "                return self.decode(BitArray(x), status)\n",
    "    \n",
    "    def write(self, x, file, status=False):\n",
    "        with open(file, 'w') as file:\n",
    "            if isinstance(x, BitArray):\n",
    "                file.write(self.decode(x, status))\n",
    "            else:\n",
    "                file.write(str(self.encode(x, status)))"
   ]
  },
  {
   "cell_type": "code",
   "execution_count": 8,
   "metadata": {},
   "outputs": [
    {
     "name": "stdout",
     "output_type": "stream",
     "text": [
      "_ . ._.. ._.. : __ . : .__ .... ._ _ : _.. ___ : _.__ ___ .._ : _.. ___ : .__ .. _ .... : .__ .. _ _._. .... . ... * : _... .._ ._. _. : _... .._ ._. _. : _... .._ ._. _. * * * : .__ .... ._ _ : _.. ___ : _.__ ___ .._ : _... .._ ._. _. : ._ .__. ._ ._. _ : .._. ._. ___ __ : .__ .. _ _._. .... . ... * : __ ___ ._. . : .__ .. _ _._. .... . ... * * * : .__ ___ ___ _.. * : ... ___ : .__ .... _.__ : _.. ___ : .__ .. _ _._. .... . ... : _... .._ ._. _. * : _._. ._ .._ ... . : _ .... . _.__ ._. . : __ ._ _.. . : ___ .._. * * * : .__ ___ ___ _.. * : ... ___ : .... ___ .__ : _.. ___ : .__ . : _ . ._.. ._.. : .. .._. : ... .... . : .. ... : __ ._ _.. . : ___ .._. : .__ ___ ___ _.. * : _... .._ .. ._.. _.. : ._ : _... ._. .. _.. __. . : ___ .._ _ : ___ .._. : .... . ._. * : ._ .... .... : _... .._ _ : _._. ._ _. : _.__ ___ .._ : _. ___ _ : ._ ._.. ... ___ : __ ._ _._ . : _... ._. .. _.. __. . ... : ___ .._ _ : ___ .._. : ... _ ___ _. . * : ___ .... : _.__ . ._ .... * * * : _.. ___ . ... : .__ ___ ___ _.. : ... .. _. _._ : .. _. : .__ ._ _ . ._. * : _. ___ * : .. _ : .._. ._.. ___ ._ _ ... * : ._.. . _ ... : _ .... ._. ___ .__ : .... . ._. : .. _. _ ___ : _ .... . : _... ___ __. * : .__ .... ._ _ : ._ ._.. ... ___ : .._. ._.. ___ ._ _ ... : .. _. : .__ ._ _ . ._. * : _... ._. . ._ _.. * : ._ .__. .__. ._.. . ... * : ..._ . ._. _.__ : ... __ ._ ._.. ._.. : ._. ___ _._. _._ ... * : _._. .. _.. . ._. * : __. ._. ._ .__. . : __. ._. ._ ..._ _.__ * : _._. .... . ._. ._. .. . ... * : __ .._ _.. * : ._ : _.. .._ _._. _._ * : . _.._ ._ _._. _ ._.. _.__ * : ... ___ : ._.. ___ __. .. _._. ._ ._.. ._.. _.__ * * * : .. .._. : ... .... . : .__ ._ _.__ ... : _ .... . : ... ._ __ . : ._ ... : ._ : _.. .._ _._. _._ * * * : ... .... . ... : __ ._ _.. . : ___ .._. : .__ ___ ___ _.. * : ._ _. _.. : _ .... . ._. . .._. ___ ._. . * * * : ._ : .__ .. _ _._. .... * : .__ . : ... .... ._ ._.. ._.. : .._ ... . : __ _.__ : ._.. ._ ._. __. . ... _ : ... _._. ._ ._.. . ... * :\n",
      "BitArray[00010000011010001101001000001110000100001001101100000010100011000010100010111100001110110101110100011000010100010111100001001100100000101100001000010011001000001011101001100000000010000100110000111000010001010010001101000011100001000101001000110100001110000100010100100011010011001100110000100110110000001010001100001010001011110000111011010111010001100001110000100010100100011010000010101101100010101001000011000011001001001001011100111100001001100100000101110100110000000001000010011000001110101110100100000100001001100100000101110100110000000001000010011001100110000100110101110101110101001001100001000001011110000100110110000011101110000101000101111000010011001000001011101001100000000010000100001110000100010100100011010011000011101000101010001010000000010000001011000000000111011010010000010000011100101010100000010000101110110010100110011001100001001101011101011101010010011000010000010111100001100000101110100111000010100010111100001001100001000000100000110100011010010000010001100101000010000011000000001000001000100001000001110010101010000001000010111011001010000100110101110101110101001001100001110000100010010001101000101001000001011000011100001001000100010100010110000010000101110100010001100001011101100101000011000000000100101001100000101011000001100001000011100001000100011000011101000101001101000011101101011101000110000011001011100011000001010110100010000010111100000111001010101010000100001110000100100010001010001011000000100001000010111010001000110000101110110010100001000000010101110011000001001100001011101100001000011101100000010101100001001100110011000010100010111000001000010000100110101110101110101001000010000001000011001010110000010000110100001001100101000100000100101001100000110010111100110000010000011000011001001101000101110010100010100001001100001101000000000101000010000001011000001001001011101001110000110000000001001010000010000110000101011110000001011000000001000011100001011101011010011000010011011000000101000110000010101101000100000101111000011001001101000101110010100010100001000001000011010000100110010100010000010010100110000111000010010000000101010100100110000010101101100110110011010000000100001001100001100010000010010011101110000100000011100101011010001101001000010010010111011101001010101000010011000011101000100010100000001001010011000010110010010001010110110000010000101100100100010101100010111011100110000111010011000000000100100100100010000000100001001100000111010001010100100110000010110000101000100010111010010101100110000000011100100101011101000010110100011101110011000010000010111100001101000101110101100010001110100010101101000110100011101110011001100110000010001100101000010000011000000001000010011001010111011010000100000010110000000010000100000010100111000010000010101000010000010110000101000100010111010010101100110011001100001000001100000000010000100000111001010101000000100001011101100101000010011010111010111010100100110000010100110010100100000010110000000001001000000110010010111010010000010011001100110000010110000100110010000010111010011000010011000010011000010000100000110000001010110100011010010000100010100000000100000111011101110000110100001010100100101100000010000000110000100000111010001010110100000001000010011000]\n"
     ]
    }
   ],
   "source": [
    "two = EncoderTwo()\n",
    "stream = two.encode(witch, True)\n",
    "print(repr(stream))"
   ]
  },
  {
   "cell_type": "code",
   "execution_count": 9,
   "metadata": {},
   "outputs": [
    {
     "name": "stdout",
     "output_type": "stream",
     "text": [
      "TELL ME WHAT DO YOU DO WITH WITCHES. BURN BURN BURN... WHAT DO YOU BURN APART FROM WITCHES. MORE WITCHES... WOOD. SO WHY DO WITCHES BURN. CAUSE THEYRE MADE OF... WOOD. SO HOW DO WE TELL IF SHE IS MADE OF WOOD. BUILD A BRIDGE OUT OF HER. AHH BUT CAN YOU NOT ALSO MAKE BRIDGES OUT OF STONE. OH YEAH... DOES WOOD SINK IN WATER. NO. IT FLOATS. LETS THROW HER INTO THE BOG. WHAT ALSO FLOATS IN WATER. BREAD. APPLES. VERY SMALL ROCKS. CIDER. GRAPE GRAVY. CHERRIES. MUD. A DUCK. EXACTLY. SO LOGICALLY... IF SHE WAYS THE SAME AS A DUCK... SHES MADE OF WOOD. AND THEREFORE... A WITCH. WE SHALL USE MY LARGEST SCALES. \n"
     ]
    }
   ],
   "source": [
    "text = two.decode(stream)\n",
    "print(text)"
   ]
  },
  {
   "cell_type": "code",
   "execution_count": 10,
   "metadata": {},
   "outputs": [
    {
     "name": "stdout",
     "output_type": "stream",
     "text": [
      "TELL ME WHAT DO YOU DO WITH WITCHES. BURN BURN BURN... WHAT DO YOU BURN APART FROM WITCHES. MORE WITCHES... WOOD. SO WHY DO WITCHES BURN. CAUSE THEYRE MADE OF... WOOD. SO HOW DO WE TELL IF SHE IS MADE OF WOOD. BUILD A BRIDGE OUT OF HER. AHH BUT CAN YOU NOT ALSO MAKE BRIDGES OUT OF STONE. OH YEAH... DOES WOOD SINK IN WATER. NO. IT FLOATS. LETS THROW HER INTO THE BOG. WHAT ALSO FLOATS IN WATER. BREAD. APPLES. VERY SMALL ROCKS. CIDER. GRAPE GRAVY. CHERRIES. MUD. A DUCK. EXACTLY. SO LOGICALLY... IF SHE WAYS THE SAME AS A DUCK... SHES MADE OF WOOD. AND THEREFORE... A WITCH. WE SHALL USE MY LARGEST SCALES. \n"
     ]
    }
   ],
   "source": [
    "file_name = 'witch_two.b'\n",
    "two.write(witch, file_name)\n",
    "print(two.read(file_name))\n"
   ]
  },
  {
   "cell_type": "code",
   "execution_count": 11,
   "metadata": {},
   "outputs": [
    {
     "name": "stdout",
     "output_type": "stream",
     "text": [
      "\n",
      "Length of Morse->ASCII encoding:\t4508 bit\n",
      "Length of Morse->Binary encoding:\t3188 bit\n",
      "Redutcion by:\t29.3%\n",
      "\n"
     ]
    }
   ],
   "source": [
    "print(f\"\"\"\n",
    "Length of Morse->ASCII encoding:\\t{len(ascii_encoding)} bit\n",
    "Length of Morse->Binary encoding:\\t{len(stream)} bit\n",
    "Redutcion by:\\t{round((1 - len(stream)/len(ascii_encoding))*100, 1)}%\n",
    "\"\"\")"
   ]
  }
 ],
 "metadata": {
  "kernelspec": {
   "display_name": "Python 3",
   "language": "python",
   "name": "python3"
  },
  "language_info": {
   "codemirror_mode": {
    "name": "ipython",
    "version": 3
   },
   "file_extension": ".py",
   "mimetype": "text/x-python",
   "name": "python",
   "nbconvert_exporter": "python",
   "pygments_lexer": "ipython3",
   "version": "3.8.2"
  }
 },
 "nbformat": 4,
 "nbformat_minor": 2
}
